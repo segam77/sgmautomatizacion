{
  "cells": [
    {
      "cell_type": "markdown",
      "metadata": {
        "id": "view-in-github",
        "colab_type": "text"
      },
      "source": [
        "<a href=\"https://colab.research.google.com/github/segam77/sgmautomatizacion/blob/main/Ejemplo_actividad_Python.ipynb\" target=\"_parent\"><img src=\"https://colab.research.google.com/assets/colab-badge.svg\" alt=\"Open In Colab\"/></a>"
      ]
    },
    {
      "cell_type": "markdown",
      "id": "15943e9a-eaf5-43b3-982a-06a024059d01",
      "metadata": {
        "id": "15943e9a-eaf5-43b3-982a-06a024059d01"
      },
      "source": [
        "# 🏋️‍♀️ Análisis de Datos de Clases en un Gimnasio\n",
        "\n",
        "**Contexto**\n",
        "Un gimnasio con varias sucursales ha compartido tres bases de datos:  \n",
        "- asistencias.csv: incluye los asistentes registrados a distintas clases (yoga, spinning, HIIT, etc.) por sucursal, el precio por clase y el total de asistentes.  \n",
        "- capacidad.csv: indica la capacidad máxima de cada clase en cada sucursal.  \n",
        "- satisfaccion.csv: muestra la puntuación promedio de satisfacción de los usuarios en cada sucursal.\n",
        "-\n",
        "La empresa quiere evaluar el rendimiento económico, la ocupación de las clases y la percepción del servicio.\n"
      ]
    },
    {
      "cell_type": "markdown",
      "id": "1812cfe4-5e10-4da6-b483-2b533020f21e",
      "metadata": {
        "id": "1812cfe4-5e10-4da6-b483-2b533020f21e"
      },
      "source": [
        "## 🧠 Tareas a realizar\n",
        "\n",
        "1. Carga los tres archivos en tu entorno de trabajo (asistencias.csv, capacidad.csv y satisfaccion.csv).\n",
        "2. Procesamiento de datos:\n",
        "- Realiza una inspección inicial de los datos con print()\n",
        "- Verifica que no haya valores nulos con isnull().sum())\n",
        "- Limpiar los datos eliminando filas con valores nulos con .dropna(inplace=True)\n",
        "- Asegúrate que los DataFrames tengan la estructura correcta y estén listos para su análisis, utilizando .info()\n",
        "3.  Análisis exploratorio de datos:\n",
        "- En asistencias.csv, crea una nueva columna llamada Ingreso que se obtenga multiplicando los asistentes por el precio por clase (Ingreso = Asistentes * Precio_Clase).\n",
        "- Calcula el ingreso total por sucursal.\n",
        "- Calcula el número total de asistentes por sucursal.\n",
        "- Une asistencias.csv con capacidad.csv para poder calcular la rotación de cada clase: Rotacion = Asistentes / Capacidad_Maxima\n",
        "- Identifica las clases con rotación baja (por ejemplo, inferior al 10%) y analiza si se repiten en ciertas sucursales o tipos de clase.\n",
        "- A partir del archivo satisfaccion.csv, identifica las sucursales con puntuaciones de satisfacción inferiores a 60 puntos.\n",
        "- Calcula la mediana y la desviación estándar del número total de asistentes por sucursal.\n",
        "- Aplica el método .describe() para describir la variable original de \"Asistentes\".\n",
        "\n",
        "**💬 Preguntas para el análisis**  \n",
        "- ¿Qué clases o sucursales generan mayores ingresos?  \n",
        "- ¿Existen clases que sistemáticamente tienen baja rotación?  \n",
        "- ¿Las sucursales con menor satisfacción coinciden con las de menor ocupación o menor ingreso?  \n",
        "- ¿Qué sugerencias podrías dar al equipo de operaciones del gimnasio?\n",
        "\n",
        "**Entrega**  \n",
        "- Asegúrate de que el código esté bien comentado y cada sección claramente delimitada.  \n",
        "- El archivo entregable debe ser un Jupyter Notebook con extensión .ipynb.\n",
        "- Si usas Visual Studio Code en la actividad, las rutas de los archivos deben ser absolutas, como se muestra a continuación:\n",
        "/workspace/ventas.csv\n",
        "/workspace/inventarios.csv\n",
        "/workspace/satisfaccion.csv\n"
      ]
    },
    {
      "cell_type": "markdown",
      "id": "72e0335a-c94e-49de-a177-4009295aee54",
      "metadata": {
        "id": "72e0335a-c94e-49de-a177-4009295aee54"
      },
      "source": [
        "## Importación y preparación"
      ]
    },
    {
      "cell_type": "code",
      "execution_count": null,
      "id": "2a634c43-4c7a-4e0c-8850-caf4e66d45a3",
      "metadata": {
        "id": "2a634c43-4c7a-4e0c-8850-caf4e66d45a3"
      },
      "outputs": [],
      "source": [
        "# 1. Importar los datos y las librerías que vamos a utilizar\n",
        "import pandas as pd\n",
        "import numpy as np\n",
        "\n",
        "# Cargar datos desde CSV\n",
        "asistencias = pd.read_csv(\"workspace/asistencias.csv\")\n",
        "capacidad = pd.read_csv(\"workspace/capacidad.csv\")\n",
        "satisfaccion = pd.read_csv(\"workspace/satisfaccion.csv\")"
      ]
    },
    {
      "cell_type": "code",
      "execution_count": null,
      "id": "2858de9b-57a7-4adc-a11d-56380a5bf38c",
      "metadata": {
        "id": "2858de9b-57a7-4adc-a11d-56380a5bf38c",
        "outputId": "519748c5-f67f-417c-b604-00cc115089d2"
      },
      "outputs": [
        {
          "name": "stdout",
          "output_type": "stream",
          "text": [
            "Asistencia \n",
            "    ID_Sucursal     Clase  Asistentes  Precio_Clase Fecha_Clase\n",
            "0            1      Yoga          20            15  2023-01-05\n",
            "1            1  Spinning          18            18  2023-01-06\n",
            "2            2      Yoga          22            15  2023-01-07\n",
            "3            2     Zumba          30            12  2023-01-08\n",
            "4            3      Yoga          15            15  2023-01-09\n",
            "5            3  Spinning          28            18  2023-01-10\n",
            "6            4     Zumba          35            12  2023-01-11\n",
            "7            4      Yoga          20            15  2023-01-12\n",
            "8            5  Spinning          25            18  2023-01-13\n",
            "9            5     Zumba          27            12  2023-01-14\n",
            "Capacidad \n",
            "    ID_Sucursal     Clase  Capacidad_Maxima Fecha_Actualización\n",
            "0            1      Yoga                40          2023-01-05\n",
            "1            1  Spinning                30          2023-01-06\n",
            "2            2      Yoga                35          2023-01-07\n",
            "3            2     Zumba                50          2023-01-08\n",
            "4            3      Yoga                25          2023-01-09\n",
            "5            3  Spinning                40          2023-01-10\n",
            "6            4     Zumba                60          2023-01-11\n",
            "7            4      Yoga                30          2023-01-12\n",
            "8            5  Spinning                35          2023-01-13\n",
            "9            5     Zumba                55          2023-01-14\n",
            "Satisfacción \n",
            "    ID_Sucursal  Satisfacción_Promedio Fecha_Evaluación\n",
            "0            1                     82       2023-01-15\n",
            "1            2                     88       2023-01-15\n",
            "2            3                     75       2023-01-15\n",
            "3            4                     60       2023-01-15\n",
            "4            5                     52       2023-01-15\n"
          ]
        }
      ],
      "source": [
        "# 2. Preparación e inspección inicial\n",
        "\n",
        "# Visualizar los DataFrames para asegurar que se cargaron correctamente\n",
        "print('Asistencia \\n', asistencias)\n",
        "\n",
        "print('Capacidad \\n', capacidad)\n",
        "\n",
        "print('Satisfacción \\n', satisfaccion)\n"
      ]
    },
    {
      "cell_type": "code",
      "execution_count": null,
      "id": "1e13b6a2-f6e7-4403-9b59-33efb3575c91",
      "metadata": {
        "id": "1e13b6a2-f6e7-4403-9b59-33efb3575c91",
        "outputId": "60a9b2da-27b9-4af2-8c20-7a2fbb1c9569"
      },
      "outputs": [
        {
          "name": "stdout",
          "output_type": "stream",
          "text": [
            "ID_Sucursal     0\n",
            "Clase           0\n",
            "Asistentes      0\n",
            "Precio_Clase    0\n",
            "Fecha_Clase     0\n",
            "dtype: int64\n",
            "ID_Sucursal            0\n",
            "Clase                  0\n",
            "Capacidad_Maxima       0\n",
            "Fecha_Actualización    0\n",
            "dtype: int64\n",
            "ID_Sucursal              0\n",
            "Satisfacción_Promedio    0\n",
            "Fecha_Evaluación         0\n",
            "dtype: int64\n"
          ]
        }
      ],
      "source": [
        "\n",
        "# Verificar que no haya valores nulos\n",
        "print(asistencias.isnull().sum())\n",
        "print(capacidad.isnull().sum())\n",
        "print(satisfaccion.isnull().sum())\n"
      ]
    },
    {
      "cell_type": "code",
      "execution_count": null,
      "id": "7aa2a018-93a7-4627-8bfc-52ad2c2a19dd",
      "metadata": {
        "id": "7aa2a018-93a7-4627-8bfc-52ad2c2a19dd"
      },
      "outputs": [],
      "source": [
        "# Limpieza de datos\n",
        "\n",
        "asistencias.dropna(inplace=True)\n",
        "capacidad.dropna(inplace=True)\n",
        "satisfaccion.dropna(inplace=True)\n"
      ]
    },
    {
      "cell_type": "code",
      "execution_count": null,
      "id": "a33ca477-30fb-4437-bf21-88769333734b",
      "metadata": {
        "id": "a33ca477-30fb-4437-bf21-88769333734b",
        "outputId": "0d1e542e-2c03-4625-9633-4ba3d17b2420"
      },
      "outputs": [
        {
          "name": "stdout",
          "output_type": "stream",
          "text": [
            "<class 'pandas.core.frame.DataFrame'>\n",
            "RangeIndex: 10 entries, 0 to 9\n",
            "Data columns (total 5 columns):\n",
            " #   Column        Non-Null Count  Dtype \n",
            "---  ------        --------------  ----- \n",
            " 0   ID_Sucursal   10 non-null     int64 \n",
            " 1   Clase         10 non-null     object\n",
            " 2   Asistentes    10 non-null     int64 \n",
            " 3   Precio_Clase  10 non-null     int64 \n",
            " 4   Fecha_Clase   10 non-null     object\n",
            "dtypes: int64(3), object(2)\n",
            "memory usage: 532.0+ bytes\n",
            "Asistencias \n",
            " None\n",
            "<class 'pandas.core.frame.DataFrame'>\n",
            "RangeIndex: 10 entries, 0 to 9\n",
            "Data columns (total 4 columns):\n",
            " #   Column               Non-Null Count  Dtype \n",
            "---  ------               --------------  ----- \n",
            " 0   ID_Sucursal          10 non-null     int64 \n",
            " 1   Clase                10 non-null     object\n",
            " 2   Capacidad_Maxima     10 non-null     int64 \n",
            " 3   Fecha_Actualización  10 non-null     object\n",
            "dtypes: int64(2), object(2)\n",
            "memory usage: 452.0+ bytes\n",
            "Capacidad \n",
            " None\n",
            "<class 'pandas.core.frame.DataFrame'>\n",
            "RangeIndex: 5 entries, 0 to 4\n",
            "Data columns (total 3 columns):\n",
            " #   Column                 Non-Null Count  Dtype \n",
            "---  ------                 --------------  ----- \n",
            " 0   ID_Sucursal            5 non-null      int64 \n",
            " 1   Satisfacción_Promedio  5 non-null      int64 \n",
            " 2   Fecha_Evaluación       5 non-null      object\n",
            "dtypes: int64(2), object(1)\n",
            "memory usage: 252.0+ bytes\n",
            "Satisfacción \n",
            " None\n"
          ]
        }
      ],
      "source": [
        "\n",
        "# Asegurarse de que los DataFrames tengan la estructura correcta:\n",
        "\n",
        "# Verificar las estructuras\n",
        "print('Asistencias \\n', asistencias.info())\n",
        "print('Capacidad \\n', capacidad.info())\n",
        "print('Satisfacción \\n', satisfaccion.info())\n"
      ]
    },
    {
      "cell_type": "markdown",
      "id": "4a05d750-6b4c-40c8-86a2-6c32e82ea7d9",
      "metadata": {
        "id": "4a05d750-6b4c-40c8-86a2-6c32e82ea7d9"
      },
      "source": [
        "# Análisis exploratorio\n",
        "\n",
        "Calcula:\n",
        "\n",
        "- 1. Ingresos por clase: Asistentes * Precio_Clase\n",
        "\n",
        "- 2. Ingresos totales por sucursal: Agrupar los Ingresos por Sucursal (df.group.by), y sumar (['Ingreso'].sum()).\n",
        "\n",
        "NOTA: al final incluir .reset_index()\n",
        "\n",
        "- 3. Asistencias totales por sucursal: ídem anterior.\n",
        "\n",
        "- 4. Rotación de clase: Asistentes / Capacidad_Maxima\n",
        "\n",
        "NOTA: Primero debemos unir las bases de datos de asistencias y capacidad.\n",
        "Asistentes es una información de la base de datos de asistencias, y Capacidad_Máxima se encuentra en la de capacidad.\n",
        "rotacion = asistencias.merge(capacidad, on=[\"ID_Sucursal\", \"Clase\"])\n",
        "\n",
        "Luego, calculamos Asistentes / Capacidad_Maxima\n",
        "\n",
        "- 5. Sucursales con rotación baja (<10%)\n",
        "\n",
        "- 6. Satisfacción baja (<60%)\n",
        "\n",
        "- 7. Mediana y desviación estándar de asistentes totales (el sumado por sucursual)\n",
        "\n",
        "- 8. Describir la variable original de asistentes.\n",
        "\n"
      ]
    },
    {
      "cell_type": "code",
      "execution_count": null,
      "id": "36369215-cef3-4a65-862f-80583c1a0dfa",
      "metadata": {
        "id": "36369215-cef3-4a65-862f-80583c1a0dfa",
        "outputId": "ac2c85e2-4fc3-4bc8-cc30-6134ce8443d8"
      },
      "outputs": [
        {
          "data": {
            "text/html": [
              "<div>\n",
              "<style scoped>\n",
              "    .dataframe tbody tr th:only-of-type {\n",
              "        vertical-align: middle;\n",
              "    }\n",
              "\n",
              "    .dataframe tbody tr th {\n",
              "        vertical-align: top;\n",
              "    }\n",
              "\n",
              "    .dataframe thead th {\n",
              "        text-align: right;\n",
              "    }\n",
              "</style>\n",
              "<table border=\"1\" class=\"dataframe\">\n",
              "  <thead>\n",
              "    <tr style=\"text-align: right;\">\n",
              "      <th></th>\n",
              "      <th>ID_Sucursal</th>\n",
              "      <th>Clase</th>\n",
              "      <th>Asistentes</th>\n",
              "      <th>Precio_Clase</th>\n",
              "      <th>Fecha_Clase</th>\n",
              "      <th>Ingreso</th>\n",
              "    </tr>\n",
              "  </thead>\n",
              "  <tbody>\n",
              "    <tr>\n",
              "      <th>0</th>\n",
              "      <td>1</td>\n",
              "      <td>Yoga</td>\n",
              "      <td>20</td>\n",
              "      <td>15</td>\n",
              "      <td>2023-01-05</td>\n",
              "      <td>300</td>\n",
              "    </tr>\n",
              "    <tr>\n",
              "      <th>1</th>\n",
              "      <td>1</td>\n",
              "      <td>Spinning</td>\n",
              "      <td>18</td>\n",
              "      <td>18</td>\n",
              "      <td>2023-01-06</td>\n",
              "      <td>324</td>\n",
              "    </tr>\n",
              "    <tr>\n",
              "      <th>2</th>\n",
              "      <td>2</td>\n",
              "      <td>Yoga</td>\n",
              "      <td>22</td>\n",
              "      <td>15</td>\n",
              "      <td>2023-01-07</td>\n",
              "      <td>330</td>\n",
              "    </tr>\n",
              "    <tr>\n",
              "      <th>3</th>\n",
              "      <td>2</td>\n",
              "      <td>Zumba</td>\n",
              "      <td>30</td>\n",
              "      <td>12</td>\n",
              "      <td>2023-01-08</td>\n",
              "      <td>360</td>\n",
              "    </tr>\n",
              "    <tr>\n",
              "      <th>4</th>\n",
              "      <td>3</td>\n",
              "      <td>Yoga</td>\n",
              "      <td>15</td>\n",
              "      <td>15</td>\n",
              "      <td>2023-01-09</td>\n",
              "      <td>225</td>\n",
              "    </tr>\n",
              "  </tbody>\n",
              "</table>\n",
              "</div>"
            ],
            "text/plain": [
              "   ID_Sucursal     Clase  Asistentes  Precio_Clase Fecha_Clase  Ingreso\n",
              "0            1      Yoga          20            15  2023-01-05      300\n",
              "1            1  Spinning          18            18  2023-01-06      324\n",
              "2            2      Yoga          22            15  2023-01-07      330\n",
              "3            2     Zumba          30            12  2023-01-08      360\n",
              "4            3      Yoga          15            15  2023-01-09      225"
            ]
          },
          "execution_count": 109,
          "metadata": {},
          "output_type": "execute_result"
        }
      ],
      "source": [
        "# 💰1: Calcular ingresos por clase (Asistentes * Precio_Clase)\n",
        "\n",
        "asistencias[\"Ingreso\"] = asistencias[\"Asistentes\"] * asistencias[\"Precio_Clase\"]\n",
        "\n",
        "asistencias.head()"
      ]
    },
    {
      "cell_type": "code",
      "execution_count": null,
      "id": "6d28ed24-5bfd-4e95-80b4-aa714eac88e4",
      "metadata": {
        "id": "6d28ed24-5bfd-4e95-80b4-aa714eac88e4",
        "outputId": "1f9c623f-f434-433e-a1dc-ac205232c96f"
      },
      "outputs": [
        {
          "data": {
            "text/html": [
              "<div>\n",
              "<style scoped>\n",
              "    .dataframe tbody tr th:only-of-type {\n",
              "        vertical-align: middle;\n",
              "    }\n",
              "\n",
              "    .dataframe tbody tr th {\n",
              "        vertical-align: top;\n",
              "    }\n",
              "\n",
              "    .dataframe thead th {\n",
              "        text-align: right;\n",
              "    }\n",
              "</style>\n",
              "<table border=\"1\" class=\"dataframe\">\n",
              "  <thead>\n",
              "    <tr style=\"text-align: right;\">\n",
              "      <th></th>\n",
              "      <th>ID_Sucursal</th>\n",
              "      <th>Ingreso</th>\n",
              "    </tr>\n",
              "  </thead>\n",
              "  <tbody>\n",
              "    <tr>\n",
              "      <th>0</th>\n",
              "      <td>1</td>\n",
              "      <td>624</td>\n",
              "    </tr>\n",
              "    <tr>\n",
              "      <th>1</th>\n",
              "      <td>2</td>\n",
              "      <td>690</td>\n",
              "    </tr>\n",
              "    <tr>\n",
              "      <th>2</th>\n",
              "      <td>3</td>\n",
              "      <td>729</td>\n",
              "    </tr>\n",
              "    <tr>\n",
              "      <th>3</th>\n",
              "      <td>4</td>\n",
              "      <td>720</td>\n",
              "    </tr>\n",
              "    <tr>\n",
              "      <th>4</th>\n",
              "      <td>5</td>\n",
              "      <td>774</td>\n",
              "    </tr>\n",
              "  </tbody>\n",
              "</table>\n",
              "</div>"
            ],
            "text/plain": [
              "   ID_Sucursal  Ingreso\n",
              "0            1      624\n",
              "1            2      690\n",
              "2            3      729\n",
              "3            4      720\n",
              "4            5      774"
            ]
          },
          "execution_count": 110,
          "metadata": {},
          "output_type": "execute_result"
        }
      ],
      "source": [
        "# 🧾 2: Ingresos totales por sucursal\n",
        "\n",
        "ingresos_totales = asistencias.groupby(\"ID_Sucursal\")[\"Ingreso\"].sum().reset_index()\n",
        "\n",
        "\n",
        "ingresos_totales\n"
      ]
    },
    {
      "cell_type": "code",
      "execution_count": null,
      "id": "044d2fdd-2d5d-4a20-ae60-c3fb5055fea5",
      "metadata": {
        "id": "044d2fdd-2d5d-4a20-ae60-c3fb5055fea5",
        "outputId": "dc6b2be1-c57e-42bc-fab1-f49821fb87a3"
      },
      "outputs": [
        {
          "data": {
            "text/html": [
              "<div>\n",
              "<style scoped>\n",
              "    .dataframe tbody tr th:only-of-type {\n",
              "        vertical-align: middle;\n",
              "    }\n",
              "\n",
              "    .dataframe tbody tr th {\n",
              "        vertical-align: top;\n",
              "    }\n",
              "\n",
              "    .dataframe thead th {\n",
              "        text-align: right;\n",
              "    }\n",
              "</style>\n",
              "<table border=\"1\" class=\"dataframe\">\n",
              "  <thead>\n",
              "    <tr style=\"text-align: right;\">\n",
              "      <th></th>\n",
              "      <th>ID_Sucursal</th>\n",
              "      <th>Asistentes</th>\n",
              "    </tr>\n",
              "  </thead>\n",
              "  <tbody>\n",
              "    <tr>\n",
              "      <th>0</th>\n",
              "      <td>1</td>\n",
              "      <td>38</td>\n",
              "    </tr>\n",
              "    <tr>\n",
              "      <th>1</th>\n",
              "      <td>2</td>\n",
              "      <td>52</td>\n",
              "    </tr>\n",
              "    <tr>\n",
              "      <th>2</th>\n",
              "      <td>3</td>\n",
              "      <td>43</td>\n",
              "    </tr>\n",
              "    <tr>\n",
              "      <th>3</th>\n",
              "      <td>4</td>\n",
              "      <td>55</td>\n",
              "    </tr>\n",
              "    <tr>\n",
              "      <th>4</th>\n",
              "      <td>5</td>\n",
              "      <td>52</td>\n",
              "    </tr>\n",
              "  </tbody>\n",
              "</table>\n",
              "</div>"
            ],
            "text/plain": [
              "   ID_Sucursal  Asistentes\n",
              "0            1          38\n",
              "1            2          52\n",
              "2            3          43\n",
              "3            4          55\n",
              "4            5          52"
            ]
          },
          "execution_count": 111,
          "metadata": {},
          "output_type": "execute_result"
        }
      ],
      "source": [
        "# 👥 3: Asistencias totales por sucursal\n",
        "\n",
        "asistencias_totales = asistencias.groupby(\"ID_Sucursal\")[\"Asistentes\"].sum().reset_index()\n",
        "\n",
        "asistencias_totales"
      ]
    },
    {
      "cell_type": "code",
      "execution_count": null,
      "id": "563b9cf8-35a5-4ddc-ba1f-aa47e8bde88c",
      "metadata": {
        "id": "563b9cf8-35a5-4ddc-ba1f-aa47e8bde88c",
        "outputId": "a219aa31-19f9-4ba7-ba72-f2db182fcf7e"
      },
      "outputs": [
        {
          "data": {
            "text/html": [
              "<div>\n",
              "<style scoped>\n",
              "    .dataframe tbody tr th:only-of-type {\n",
              "        vertical-align: middle;\n",
              "    }\n",
              "\n",
              "    .dataframe tbody tr th {\n",
              "        vertical-align: top;\n",
              "    }\n",
              "\n",
              "    .dataframe thead th {\n",
              "        text-align: right;\n",
              "    }\n",
              "</style>\n",
              "<table border=\"1\" class=\"dataframe\">\n",
              "  <thead>\n",
              "    <tr style=\"text-align: right;\">\n",
              "      <th></th>\n",
              "      <th>ID_Sucursal</th>\n",
              "      <th>Clase</th>\n",
              "      <th>Asistentes</th>\n",
              "      <th>Precio_Clase</th>\n",
              "      <th>Fecha_Clase</th>\n",
              "      <th>Ingreso</th>\n",
              "      <th>Capacidad_Maxima</th>\n",
              "      <th>Fecha_Actualización</th>\n",
              "      <th>Rotacion</th>\n",
              "    </tr>\n",
              "  </thead>\n",
              "  <tbody>\n",
              "    <tr>\n",
              "      <th>0</th>\n",
              "      <td>1</td>\n",
              "      <td>Yoga</td>\n",
              "      <td>20</td>\n",
              "      <td>15</td>\n",
              "      <td>2023-01-05</td>\n",
              "      <td>300</td>\n",
              "      <td>40</td>\n",
              "      <td>2023-01-05</td>\n",
              "      <td>0.500000</td>\n",
              "    </tr>\n",
              "    <tr>\n",
              "      <th>1</th>\n",
              "      <td>1</td>\n",
              "      <td>Spinning</td>\n",
              "      <td>18</td>\n",
              "      <td>18</td>\n",
              "      <td>2023-01-06</td>\n",
              "      <td>324</td>\n",
              "      <td>30</td>\n",
              "      <td>2023-01-06</td>\n",
              "      <td>0.600000</td>\n",
              "    </tr>\n",
              "    <tr>\n",
              "      <th>2</th>\n",
              "      <td>2</td>\n",
              "      <td>Yoga</td>\n",
              "      <td>22</td>\n",
              "      <td>15</td>\n",
              "      <td>2023-01-07</td>\n",
              "      <td>330</td>\n",
              "      <td>35</td>\n",
              "      <td>2023-01-07</td>\n",
              "      <td>0.628571</td>\n",
              "    </tr>\n",
              "    <tr>\n",
              "      <th>3</th>\n",
              "      <td>2</td>\n",
              "      <td>Zumba</td>\n",
              "      <td>30</td>\n",
              "      <td>12</td>\n",
              "      <td>2023-01-08</td>\n",
              "      <td>360</td>\n",
              "      <td>50</td>\n",
              "      <td>2023-01-08</td>\n",
              "      <td>0.600000</td>\n",
              "    </tr>\n",
              "    <tr>\n",
              "      <th>4</th>\n",
              "      <td>3</td>\n",
              "      <td>Yoga</td>\n",
              "      <td>15</td>\n",
              "      <td>15</td>\n",
              "      <td>2023-01-09</td>\n",
              "      <td>225</td>\n",
              "      <td>25</td>\n",
              "      <td>2023-01-09</td>\n",
              "      <td>0.600000</td>\n",
              "    </tr>\n",
              "    <tr>\n",
              "      <th>5</th>\n",
              "      <td>3</td>\n",
              "      <td>Spinning</td>\n",
              "      <td>28</td>\n",
              "      <td>18</td>\n",
              "      <td>2023-01-10</td>\n",
              "      <td>504</td>\n",
              "      <td>40</td>\n",
              "      <td>2023-01-10</td>\n",
              "      <td>0.700000</td>\n",
              "    </tr>\n",
              "    <tr>\n",
              "      <th>6</th>\n",
              "      <td>4</td>\n",
              "      <td>Zumba</td>\n",
              "      <td>35</td>\n",
              "      <td>12</td>\n",
              "      <td>2023-01-11</td>\n",
              "      <td>420</td>\n",
              "      <td>60</td>\n",
              "      <td>2023-01-11</td>\n",
              "      <td>0.583333</td>\n",
              "    </tr>\n",
              "    <tr>\n",
              "      <th>7</th>\n",
              "      <td>4</td>\n",
              "      <td>Yoga</td>\n",
              "      <td>20</td>\n",
              "      <td>15</td>\n",
              "      <td>2023-01-12</td>\n",
              "      <td>300</td>\n",
              "      <td>30</td>\n",
              "      <td>2023-01-12</td>\n",
              "      <td>0.666667</td>\n",
              "    </tr>\n",
              "    <tr>\n",
              "      <th>8</th>\n",
              "      <td>5</td>\n",
              "      <td>Spinning</td>\n",
              "      <td>25</td>\n",
              "      <td>18</td>\n",
              "      <td>2023-01-13</td>\n",
              "      <td>450</td>\n",
              "      <td>35</td>\n",
              "      <td>2023-01-13</td>\n",
              "      <td>0.714286</td>\n",
              "    </tr>\n",
              "    <tr>\n",
              "      <th>9</th>\n",
              "      <td>5</td>\n",
              "      <td>Zumba</td>\n",
              "      <td>27</td>\n",
              "      <td>12</td>\n",
              "      <td>2023-01-14</td>\n",
              "      <td>324</td>\n",
              "      <td>55</td>\n",
              "      <td>2023-01-14</td>\n",
              "      <td>0.490909</td>\n",
              "    </tr>\n",
              "  </tbody>\n",
              "</table>\n",
              "</div>"
            ],
            "text/plain": [
              "   ID_Sucursal     Clase  Asistentes  Precio_Clase Fecha_Clase  Ingreso  \\\n",
              "0            1      Yoga          20            15  2023-01-05      300   \n",
              "1            1  Spinning          18            18  2023-01-06      324   \n",
              "2            2      Yoga          22            15  2023-01-07      330   \n",
              "3            2     Zumba          30            12  2023-01-08      360   \n",
              "4            3      Yoga          15            15  2023-01-09      225   \n",
              "5            3  Spinning          28            18  2023-01-10      504   \n",
              "6            4     Zumba          35            12  2023-01-11      420   \n",
              "7            4      Yoga          20            15  2023-01-12      300   \n",
              "8            5  Spinning          25            18  2023-01-13      450   \n",
              "9            5     Zumba          27            12  2023-01-14      324   \n",
              "\n",
              "   Capacidad_Maxima Fecha_Actualización  Rotacion  \n",
              "0                40          2023-01-05  0.500000  \n",
              "1                30          2023-01-06  0.600000  \n",
              "2                35          2023-01-07  0.628571  \n",
              "3                50          2023-01-08  0.600000  \n",
              "4                25          2023-01-09  0.600000  \n",
              "5                40          2023-01-10  0.700000  \n",
              "6                60          2023-01-11  0.583333  \n",
              "7                30          2023-01-12  0.666667  \n",
              "8                35          2023-01-13  0.714286  \n",
              "9                55          2023-01-14  0.490909  "
            ]
          },
          "execution_count": 112,
          "metadata": {},
          "output_type": "execute_result"
        }
      ],
      "source": [
        "# 🔗 4: Combinar con capacidad y calcular rotación (Asistentes / Capacidad)\n",
        "# Primero unimos por ID_Sucursal y Clase:\n",
        "\n",
        "asistencia_capacidad = asistencias.merge(capacidad, on=[\"ID_Sucursal\", \"Clase\"])\n",
        "\n",
        "asistencia_capacidad[\"Rotacion\"] = asistencia_capacidad[\"Asistentes\"] / asistencia_capacidad[\"Capacidad_Maxima\"]\n",
        "\n",
        "asistencia_capacidad"
      ]
    },
    {
      "cell_type": "code",
      "execution_count": null,
      "id": "4c25d0b1-6066-42c4-93cc-ecc5c57c08ec",
      "metadata": {
        "id": "4c25d0b1-6066-42c4-93cc-ecc5c57c08ec",
        "outputId": "d21ed006-6919-44b7-eb17-a03c7d35d94e"
      },
      "outputs": [
        {
          "data": {
            "text/html": [
              "<div>\n",
              "<style scoped>\n",
              "    .dataframe tbody tr th:only-of-type {\n",
              "        vertical-align: middle;\n",
              "    }\n",
              "\n",
              "    .dataframe tbody tr th {\n",
              "        vertical-align: top;\n",
              "    }\n",
              "\n",
              "    .dataframe thead th {\n",
              "        text-align: right;\n",
              "    }\n",
              "</style>\n",
              "<table border=\"1\" class=\"dataframe\">\n",
              "  <thead>\n",
              "    <tr style=\"text-align: right;\">\n",
              "      <th></th>\n",
              "      <th>ID_Sucursal</th>\n",
              "      <th>Clase</th>\n",
              "      <th>Asistentes</th>\n",
              "      <th>Precio_Clase</th>\n",
              "      <th>Fecha_Clase</th>\n",
              "      <th>Ingreso</th>\n",
              "      <th>Capacidad_Maxima</th>\n",
              "      <th>Fecha_Actualización</th>\n",
              "      <th>Rotacion</th>\n",
              "    </tr>\n",
              "  </thead>\n",
              "  <tbody>\n",
              "  </tbody>\n",
              "</table>\n",
              "</div>"
            ],
            "text/plain": [
              "Empty DataFrame\n",
              "Columns: [ID_Sucursal, Clase, Asistentes, Precio_Clase, Fecha_Clase, Ingreso, Capacidad_Maxima, Fecha_Actualización, Rotacion]\n",
              "Index: []"
            ]
          },
          "execution_count": 113,
          "metadata": {},
          "output_type": "execute_result"
        }
      ],
      "source": [
        "# ⚠️ 5: Sucursales con rotación baja (por ejemplo, < 0.10)\n",
        "\n",
        "baja_rotacion = asistencia_capacidad[asistencia_capacidad[\"Rotacion\"] < 0.10]\n",
        "\n",
        "baja_rotacion\n",
        "\n",
        "#💡 En estos casos, la clase podría estar infrautilizada."
      ]
    },
    {
      "cell_type": "code",
      "execution_count": null,
      "id": "f2b473e9-fc3f-4be1-b4e7-29ca7c3b8d1a",
      "metadata": {
        "id": "f2b473e9-fc3f-4be1-b4e7-29ca7c3b8d1a",
        "outputId": "f72ba9c9-0404-471d-80d1-6eb0d2ba8592"
      },
      "outputs": [
        {
          "data": {
            "text/html": [
              "<div>\n",
              "<style scoped>\n",
              "    .dataframe tbody tr th:only-of-type {\n",
              "        vertical-align: middle;\n",
              "    }\n",
              "\n",
              "    .dataframe tbody tr th {\n",
              "        vertical-align: top;\n",
              "    }\n",
              "\n",
              "    .dataframe thead th {\n",
              "        text-align: right;\n",
              "    }\n",
              "</style>\n",
              "<table border=\"1\" class=\"dataframe\">\n",
              "  <thead>\n",
              "    <tr style=\"text-align: right;\">\n",
              "      <th></th>\n",
              "      <th>ID_Sucursal</th>\n",
              "      <th>Satisfacción_Promedio</th>\n",
              "      <th>Fecha_Evaluación</th>\n",
              "    </tr>\n",
              "  </thead>\n",
              "  <tbody>\n",
              "    <tr>\n",
              "      <th>4</th>\n",
              "      <td>5</td>\n",
              "      <td>52</td>\n",
              "      <td>2023-01-15</td>\n",
              "    </tr>\n",
              "  </tbody>\n",
              "</table>\n",
              "</div>"
            ],
            "text/plain": [
              "   ID_Sucursal  Satisfacción_Promedio Fecha_Evaluación\n",
              "4            5                     52       2023-01-15"
            ]
          },
          "execution_count": 114,
          "metadata": {},
          "output_type": "execute_result"
        }
      ],
      "source": [
        "# 😐 6: Sucursales con satisfacción promedio baja (por ejemplo, < 60)\n",
        "\n",
        "satisfaccion_baja = satisfaccion[satisfaccion[\"Satisfacción_Promedio\"] < 60]\n",
        "\n",
        "satisfaccion_baja"
      ]
    },
    {
      "cell_type": "code",
      "execution_count": null,
      "id": "54267ad0-efc4-4f6c-9ffe-a9e03865bcdd",
      "metadata": {
        "id": "54267ad0-efc4-4f6c-9ffe-a9e03865bcdd",
        "outputId": "5ebf4e2b-5d67-477b-8802-7ae72201f3bd"
      },
      "outputs": [
        {
          "name": "stdout",
          "output_type": "stream",
          "text": [
            "Mediana de asistentes totales: 52.0\n",
            "Desviación estándar: 7.176350047203662\n"
          ]
        }
      ],
      "source": [
        "# 📊 7: Mediana y desviación estándar de asistentes totales\n",
        "mediana_asist = asistencias_totales[\"Asistentes\"].median()\n",
        "desv_asist = asistencias_totales[\"Asistentes\"].std()\n",
        "\n",
        "print(f\"Mediana de asistentes totales: {mediana_asist}\")\n",
        "print(f\"Desviación estándar: {desv_asist}\")"
      ]
    },
    {
      "cell_type": "code",
      "execution_count": null,
      "id": "a7e27b5b-6dfa-4a1a-a631-aeb530630bad",
      "metadata": {
        "id": "a7e27b5b-6dfa-4a1a-a631-aeb530630bad",
        "outputId": "82ad2f48-4ebb-4767-da7b-8d9bf239154b"
      },
      "outputs": [
        {
          "name": "stdout",
          "output_type": "stream",
          "text": [
            "count    10.000000\n",
            "mean     24.000000\n",
            "std       6.110101\n",
            "min      15.000000\n",
            "25%      20.000000\n",
            "50%      23.500000\n",
            "75%      27.750000\n",
            "max      35.000000\n",
            "Name: Asistentes, dtype: float64\n"
          ]
        }
      ],
      "source": [
        "\n",
        "# 8. Describir la variable original de asistentes\n",
        "\n",
        "resumen_asistencias = asistencias['Asistentes'].describe()\n",
        "\n",
        "print(resumen_asistencias)"
      ]
    }
  ],
  "metadata": {
    "kernelspec": {
      "display_name": "Python 3 (ipykernel)",
      "language": "python",
      "name": "python3"
    },
    "language_info": {
      "codemirror_mode": {
        "name": "ipython",
        "version": 3
      },
      "file_extension": ".py",
      "mimetype": "text/x-python",
      "name": "python",
      "nbconvert_exporter": "python",
      "pygments_lexer": "ipython3",
      "version": "3.12.2"
    },
    "colab": {
      "provenance": [],
      "include_colab_link": true
    }
  },
  "nbformat": 4,
  "nbformat_minor": 5
}